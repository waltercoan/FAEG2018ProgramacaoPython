{
 "cells": [
  {
   "cell_type": "code",
   "execution_count": 2,
   "metadata": {
    "collapsed": true
   },
   "outputs": [],
   "source": [
    "#Introdução a programação na linguagem Python"
   ]
  },
  {
   "cell_type": "code",
   "execution_count": null,
   "metadata": {},
   "outputs": [],
   "source": [
    "#Linguagem interpretada\n",
    "#Até permite compilação, mas não influencia no tempo de \n",
    "# execução do código apenas no tempo de carga para a memória\n",
    "#Não é necessário declarar as variáveis com seus tipos, os \n",
    "# tipos são atribuídos no momento do primeiro uso da variável\n",
    "#Definição dos blocos é feita a partir da indentação do código \n",
    "# após encontrar o sinal de dois pontos"
   ]
  },
  {
   "cell_type": "code",
   "execution_count": 4,
   "metadata": {
    "collapsed": false
   },
   "outputs": [
    {
     "name": "stdout",
     "output_type": "stream",
     "text": [
      "Sua idade e 15\nVocê é menor de idade\n"
     ]
    }
   ],
   "source": [
    "idade = 15\n",
    "#idade = int(input(\"Digite a sua idade\"))\n",
    "print(\"Sua idade e\", idade)\n",
    "if idade >= 18:\n",
    "    print(\"Você é maior de idade\")\n",
    "else:\n",
    "    print(\"Você é menor de idade\")"
   ]
  },
  {
   "cell_type": "code",
   "execution_count": 28,
   "metadata": {},
   "outputs": [
    {
     "name": "stdout",
     "output_type": "stream",
     "text": [
      "<class 'int'>\n<class 'float'>\n(2+0j)\n<class 'complex'>\n3.141592653589793\n3.14\n<class 'float'>\n"
     ]
    }
   ],
   "source": [
    "import cmath\n",
    "#tipos de dados no Python\n",
    "idade = 22 # inteiro\n",
    "print(type(idade))\n",
    "salario = 1200.50 #float\n",
    "print(type(salario))\n",
    "x = 4\n",
    "c =  cmath.sqrt(x)\n",
    "print(c)\n",
    "print(type(c))\n",
    "pi = cmath.pi\n",
    "print(pi)\n",
    "#formatando números decimais\n",
    "print(\"%.2f\" % pi)\n",
    "print(type(pi))"
   ]
  },
  {
   "cell_type": "code",
   "execution_count": null,
   "metadata": {},
   "outputs": [],
   "source": [
    "#Operadores de comparação são idênticos a linguagem C\n",
    "#Operadores aritméticos são similares a linguagem C \n",
    "# (não suporta operador de incremento e decremento pré e pós fixado)\n",
    "#Suporta tipos lógicos - booleano"
   ]
  },
  {
   "cell_type": "code",
   "execution_count": 6,
   "metadata": {
    "collapsed": false
   },
   "outputs": [
    {
     "name": "stdout",
     "output_type": "stream",
     "text": [
      "Mentira\n"
     ]
    }
   ],
   "source": [
    "resposta = False\n",
    "if resposta:\n",
    "    print(\"Verdade\")\n",
    "else:\n",
    "    print(\"Mentira\")"
   ]
  },
  {
   "cell_type": "code",
   "execution_count": 28,
   "metadata": {},
   "outputs": [
    {
     "name": "stdout",
     "output_type": "stream",
     "text": [
      "<class 'int'>\n<class 'float'>\n(2+0j)\n<class 'complex'>\n3.141592653589793\n3.14\n<class 'float'>\n"
     ]
    }
   ],
   "source": [
    "import cmath\n",
    "#tipos de dados no Python\n",
    "idade = 22 # inteiro\n",
    "print(type(idade))\n",
    "salario = 1200.50 #float\n",
    "print(type(salario))\n",
    "x = 4\n",
    "c =  cmath.sqrt(x)\n",
    "print(c)\n",
    "print(type(c))\n",
    "pi = cmath.pi\n",
    "print(pi)\n",
    "#formatando números decimais\n",
    "print(\"%.2f\" % pi)\n",
    "print(type(pi))"
   ]
  },
  {
   "cell_type": "heading",
   "metadata": {},
   "level": 2,
   "source": [
    "Blocos de Repetição"
   ]
  },
  {
   "cell_type": "code",
   "execution_count": 7,
   "metadata": {},
   "outputs": [
    {
     "name": "stdout",
     "output_type": "stream",
     "text": [
      "5\n4\n3\n2\n1\n"
     ]
    }
   ],
   "source": [
    "cont = 5\n",
    "while(cont>0):\n",
    "    print(cont)\n",
    "    cont = cont - 1\n",
    "    "
   ]
  },
  {
   "cell_type": "code",
   "execution_count": 8,
   "metadata": {},
   "outputs": [
    {
     "name": "stdout",
     "output_type": "stream",
     "text": [
      "10\n9\n8\n7\n6\n5\n4\n3\n2\n1\n"
     ]
    }
   ],
   "source": [
    "for num in range(10,0,-1):\n",
    "    print(num)"
   ]
  },
  {
   "cell_type": "code",
   "execution_count": 10,
   "metadata": {},
   "outputs": [
    {
     "name": "stdout",
     "output_type": "stream",
     "text": [
      "0\n1\n2\n3\n4\n5\n"
     ]
    }
   ],
   "source": [
    "#Não é possível alterar o número de iterações de um bloco for com range\n",
    "for num in range(6):\n",
    "    print(num)\n",
    "    num = num + 1"
   ]
  },
  {
   "cell_type": "code",
   "execution_count": 13,
   "metadata": {},
   "outputs": [
    {
     "name": "stdout",
     "output_type": "stream",
     "text": [
      "0\n1\n2\naqui ohhh\n"
     ]
    }
   ],
   "source": [
    "#O comando break interrompe a execução de um bloco de repetição\n",
    "for num in range(5):\n",
    "    if num >= 3:\n",
    "        break\n",
    "    print(num)\n",
    "print(\"aqui ohhh\")"
   ]
  },
  {
   "cell_type": "code",
   "execution_count": 17,
   "metadata": {},
   "outputs": [
    {
     "name": "stdout",
     "output_type": "stream",
     "text": [
      "0\n1\n3\n4\n"
     ]
    }
   ],
   "source": [
    "#O comando continue interrompe uma iteração de um bloco de repetição\n",
    "for num in range(5):\n",
    "    if num == 2:\n",
    "        continue\n",
    "    print(num)"
   ]
  },
  {
   "cell_type": "heading",
   "metadata": {},
   "level": 2,
   "source": [
    "Listas"
   ]
  },
  {
   "cell_type": "code",
   "execution_count": 15,
   "metadata": {},
   "outputs": [
    {
     "ename": "IndexError",
     "evalue": "list assignment index out of range",
     "traceback": [
      "\u001b[0;31m---------------------------------------------------------------------------\u001b[0m",
      "\u001b[0;31mIndexError\u001b[0m                                Traceback (most recent call last)",
      "\u001b[0;32m<ipython-input-15-cfec45c2dfdc>\u001b[0m in \u001b[0;36m<module>\u001b[0;34m()\u001b[0m\n\u001b[1;32m      2\u001b[0m \u001b[0mtelefones\u001b[0m \u001b[0;34m=\u001b[0m \u001b[0;34m[\u001b[0m\u001b[0;34m\"\"\u001b[0m\u001b[0;34m]\u001b[0m \u001b[0;34m*\u001b[0m \u001b[0;36m5\u001b[0m\u001b[0;34m\u001b[0m\u001b[0m\n\u001b[1;32m      3\u001b[0m \u001b[0mtelefones\u001b[0m\u001b[0;34m[\u001b[0m\u001b[0;36m0\u001b[0m\u001b[0;34m]\u001b[0m \u001b[0;34m=\u001b[0m \u001b[0;34m\"5555-1234\"\u001b[0m\u001b[0;34m\u001b[0m\u001b[0m\n\u001b[0;32m----> 4\u001b[0;31m \u001b[0mtelefones\u001b[0m\u001b[0;34m[\u001b[0m\u001b[0;36m5\u001b[0m\u001b[0;34m]\u001b[0m \u001b[0;34m=\u001b[0m \u001b[0;34m\"5555-2233\"\u001b[0m\u001b[0;34m\u001b[0m\u001b[0m\n\u001b[0m\u001b[1;32m      5\u001b[0m \u001b[0mprint\u001b[0m\u001b[0;34m(\u001b[0m\u001b[0mtelefones\u001b[0m\u001b[0;34m)\u001b[0m\u001b[0;34m\u001b[0m\u001b[0m\n",
      "\u001b[0;31mIndexError\u001b[0m: list assignment index out of range"
     ],
     "output_type": "error"
    }
   ],
   "source": [
    "#listas podem armazenar diversos valores em um único identificador\n",
    "telefones = [\"\"] * 5\n",
    "telefones[0] = \"5555-1234\"\n",
    "telefones[5] = \"5555-2233\"\n",
    "print(telefones)"
   ]
  },
  {
   "cell_type": "code",
   "execution_count": 17,
   "metadata": {},
   "outputs": [
    {
     "name": "stdout",
     "output_type": "stream",
     "text": [
      "['eu não acredito', 'olha nos aqui...']\n"
     ]
    }
   ],
   "source": [
    "#por que isso não funciona?????\n",
    "lista = []\n",
    "#lista[0] = \"eu não acredito\"\n",
    "#como podemos corrigir?\n",
    "lista.append(\"eu não acredito\")\n",
    "lista.insert(1,\"olha nos aqui...\")\n",
    "print(lista)"
   ]
  },
  {
   "cell_type": "code",
   "execution_count": 19,
   "metadata": {},
   "outputs": [
    {
     "name": "stdout",
     "output_type": "stream",
     "text": [
      "[10, 20, 30, 0, 0, 0, 0, 0, 0, 0]\n"
     ]
    }
   ],
   "source": [
    "#lista de numeros\n",
    "lista = [0] * 10\n",
    "lista[0] = 10\n",
    "lista[1] = 20\n",
    "lista[2] = 30\n",
    "print(lista)"
   ]
  },
  {
   "cell_type": "code",
   "execution_count": 20,
   "metadata": {},
   "outputs": [
    {
     "name": "stdout",
     "output_type": "stream",
     "text": [
      "10univille20univille30univille0univille0univille0univille0univille0univille0univille0univille"
     ]
    }
   ],
   "source": [
    "#Iterando por uma lista\n",
    "for umnumero in lista:\n",
    "    print(umnumero,end=\"univille\")"
   ]
  },
  {
   "cell_type": "code",
   "execution_count": 23,
   "metadata": {},
   "outputs": [
    {
     "name": "stdout",
     "output_type": "stream",
     "text": [
      "Lista [200, 20, 30, 0, 0, 0, 0, 0, 0, 0]\nCopia [100, 20, 30, 0, 0, 0, 0, 0, 0, 0]\nnaoecopia [300, 20, 30, 0, 0, 0, 0, 0, 0, 0]\nLista [300, 20, 30, 0, 0, 0, 0, 0, 0, 0]\n"
     ]
    }
   ],
   "source": [
    "#É possível copiar uma lista\n",
    "lista = [0] * 10\n",
    "#for i in range(len(lista)):\n",
    "#    print(lista[i])\n",
    "lista[0] = 10\n",
    "lista[1] = 20\n",
    "lista[2] = 30\n",
    "copia = lista[:]\n",
    "naoecopia = lista\n",
    "naoecopia[0] = 200\n",
    "copia[0] = 100\n",
    "print(\"Lista\", lista)\n",
    "print(\"Copia\",copia)\n",
    "lista[0] = 300\n",
    "print(\"naoecopia\",naoecopia)\n",
    "print(\"Lista\", lista)"
   ]
  },
  {
   "cell_type": "heading",
   "metadata": {},
   "level": 2,
   "source": [
    "Buscando dados da internet"
   ]
  },
  {
   "cell_type": "code",
   "execution_count": 41,
   "metadata": {},
   "outputs": [],
   "source": [
    "#Clique no menu File -> Settings\n",
    "#No menu lateral clique na opção Project:nomedoseuprojeto\n",
    "#Selecione a subopcao Project Interpreter\n",
    "#Será apresentada uma lista do lado direito\n",
    "#Clique no botão +\n",
    "#No campo de busca digite requests\n",
    "#Clique no botão Install Packages "
   ]
  },
  {
   "cell_type": "code",
   "execution_count": 26,
   "metadata": {},
   "outputs": [
    {
     "name": "stdout",
     "output_type": "stream",
     "text": [
      "<Response [200]>\n<!DOCTYPE html>\n\t<html lang=\"pt-BR\">\n\t<head>\n\t\t<!-- Google Tag Manager -->\n\t\t<script>(function(w,d,s\n"
     ]
    }
   ],
   "source": [
    "import requests\n",
    "resp = requests.get(\"http://www.univille.br\")\n",
    "print(resp)\n",
    "print(resp.text[:100])"
   ]
  },
  {
   "cell_type": "code",
   "execution_count": 53,
   "metadata": {},
   "outputs": [
    {
     "name": "stdout",
     "output_type": "stream",
     "text": [
      "<Response [200]>\n"
     ]
    }
   ],
   "source": [
    "#Webservices?\n",
    "#O que são? De onde vem? Do que se alimentam?\n",
    "#Projeto de digitalização dos museus\n",
    "#Webserivce API REST\n",
    "#http://museu.univille.br:8080/consultamuseu/rest/mobile/museus\n",
    "\n",
    "import requests\n",
    "resp = requests.get(\n",
    "    \"http://museu.univille.br:8080/consultamuseu/rest/mobile/museus\")\n",
    "print(resp)\n",
    "dados = resp.json()"
   ]
  },
  {
   "cell_type": "code",
   "execution_count": 98,
   "metadata": {},
   "outputs": [
    {
     "name": "stdout",
     "output_type": "stream",
     "text": [
      "oid:  0\nNome:  Todos os Museus\nEndereco:  None\nCidade:  None\noid:  4\nNome:  Museu Casa Fritz Alt\nEndereco:  Rua Aubé - Boa Vista, Joinville - SC\nCidade:  {'descricao': 'Joinville', 'estado': {'descricao': 'Santa Catarina', 'oid': 2, 'pais': 'Brasil'}, 'oid': 3}\noid:  7\nNome:  Museu Nacional de Imigração e Colonização\nEndereco:  Rua Rio Branco, 229\nCidade:  {'descricao': 'Joinville', 'estado': {'descricao': 'Santa Catarina', 'oid': 2, 'pais': 'Brasil'}, 'oid': 3}\n"
     ]
    }
   ],
   "source": [
    "for ummuseu in dados:\n",
    "    print(\"oid: \", ummuseu.get(\"oid\"))\n",
    "    print(\"Nome: \", ummuseu.get(\"nome\"))\n",
    "    print(\"Endereco: \", ummuseu.get(\"endereco\"))\n",
    "    print(\"Cidade: \", ummuseu.get(\"cidade\"))\n",
    "    \n",
    "    "
   ]
  },
  {
   "cell_type": "code",
   "execution_count": 2,
   "metadata": {},
   "outputs": [],
   "source": [
    "#Tente construir uma busca para encontrar os dados da casa \n",
    "# enxaimel que esta no museu nacional \n",
    "# (em qual ano ela foi construida?) \n",
    "#URL\n",
    "#http://museu.univille.br:8080/consultamuseu/rest/mobile/busca/{oidMuseum}/{pagesize}/{pagenumber}/{searchString}\n"
   ]
  },
  {
   "cell_type": "code",
   "execution_count": null,
   "metadata": {},
   "outputs": [],
   "source": []
  }
 ],
 "metadata": {
  "kernelspec": {
   "display_name": "Python 2",
   "language": "python",
   "name": "python2"
  },
  "language_info": {
   "codemirror_mode": {
    "name": "ipython",
    "version": 2
   },
   "file_extension": ".py",
   "mimetype": "text/x-python",
   "name": "python",
   "nbconvert_exporter": "python",
   "pygments_lexer": "ipython2",
   "version": "2.7.6"
  }
 },
 "nbformat": 4,
 "nbformat_minor": 0
}
